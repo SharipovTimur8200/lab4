{
 "cells": [
  {
   "cell_type": "code",
   "execution_count": 2,
   "id": "ec07e3a2-480a-4350-868e-02679ff2aada",
   "metadata": {
    "tags": []
   },
   "outputs": [
    {
     "data": {
      "text/plain": [
       "'\\nfrom sklearn.ensemble import RandomForestClassifier\\n\\n\\nfrom sklearn.metrics import roc_auc_score, precision_score, recall_score, roc_curve, accuracy_score\\n\\nfrom sklearn.model_selection import train_test_split\\nfrom sklearn.model_selection import GridSearchCV\\nimport pandas as pd\\nimport numpy as np\\n\\ndata = pd.read_csv(\\'german.csv\\', sep=\\';\\')\\n\\nX = data.iloc[:, 1:].to_numpy()\\ny = data.iloc[:, 0].to_numpy()\\n\\nX_train, X_test, y_train, y_test = train_test_split(X, y, test_size=0.2, random_state=42)\\n\\n# Задаем параметры для оптимизации\\nparam_grid = {\\n    \\'n_estimators\\': [200, 300, 400, 500, 590],\\n    \\'criterion\\': [\\'gini\\', \\'entropy\\', \\'log_loss\\'],\\n    \\'max_depth\\': [15, 20, 25],\\n    #\\'min_samples_split\\': [],\\n    #\\'min_samples_leaf\\': [],\\n    #\\'min_weight_fraction_leaf\\': [],\\n    \\'max_features\\': [\\'sqrt\\', \\'log2\\', None],\\n    #\\'max_leaf_nodes\\': [],\\n    #\\'min_impurity_decrease\\': [],\\n    #\\'bootstrap\\': [True, False],\\n    #\\'oob_score\\': [True, False],\\n    #\\'n_jobs\\': [],\\n    \\'random_state\\': [42, 48, 92],\\n    #\\'verbose\\': [],\\n    #\\'warm_start\\': [True, False],\\n    \\'class_weight\\': [\\'balanced\\', \\'balanced_subsample\\', None]\\n    #\\'ccp_alpha\\': [],\\n    #\\'max_samples\\': []\\n}\\n\\n# Создаем модель Random Forest\\nrf_model = RandomForestClassifier()\\n\\n# Используем GridSearchCV для оптимизации гиперпараметров\\ngrid_search = GridSearchCV(rf_model, param_grid, cv=5)\\ngrid_search.fit(X_train, y_train)\\n\\n# Выводим лучшие параметры и результаты\\nprint(\"Лучшие параметры:\", grid_search.best_params_)\\nprint(\"Лучший ROC AUC:\", grid_search.best_score_)\\n\\n# Используем лучшую модель для прогноза\\nbest_model = grid_search.best_estimator_\\n\\n#rf_pred = best_model.predict(X_test)\\nrf_pred = best_model.predict_proba(X_test)[:,1]\\n\\n# Расчет метрик для лучшей модели\\nrf_roc_auc = roc_auc_score(y_test, rf_pred)\\nprint(\"Лучшая модель Random Forest метрики:\")\\nprint(f\"ROC AUC: {rf_roc_auc:.2f}\")\\n'"
      ]
     },
     "execution_count": 2,
     "metadata": {},
     "output_type": "execute_result"
    }
   ],
   "source": [
    "from sklearn.ensemble import RandomForestClassifier\n",
    "\n",
    "\n",
    "from sklearn.metrics import roc_auc_score, precision_score, recall_score, roc_curve, accuracy_score\n",
    "\n",
    "from sklearn.model_selection import train_test_split\n",
    "from sklearn.model_selection import GridSearchCV\n",
    "import pandas as pd\n",
    "import numpy as np\n",
    "\n",
    "data = pd.read_csv('german.csv', sep=';')\n",
    "\n",
    "X = data.iloc[:, 1:].to_numpy()\n",
    "y = data.iloc[:, 0].to_numpy()\n",
    "\n",
    "X_train, X_test, y_train, y_test = train_test_split(X, y, test_size=0.2, random_state=42)\n",
    "\n",
    "# Задаем параметры для оптимизации\n",
    "param_grid = {\n",
    "    'n_estimators': [200, 300, 400, 500, 590],\n",
    "    'criterion': ['gini', 'entropy', 'log_loss'],\n",
    "    'max_depth': [15, 20, 25],\n",
    "    #'min_samples_split': [],\n",
    "    #'min_samples_leaf': [],\n",
    "    #'min_weight_fraction_leaf': [],\n",
    "    'max_features': ['sqrt', 'log2', None],\n",
    "    #'max_leaf_nodes': [],\n",
    "    #'min_impurity_decrease': [],\n",
    "    #'bootstrap': [True, False],\n",
    "    #'oob_score': [True, False],\n",
    "    #'n_jobs': [],\n",
    "    'random_state': [42, 48, 92],\n",
    "    #'verbose': [],\n",
    "    #'warm_start': [True, False],\n",
    "    'class_weight': ['balanced', 'balanced_subsample', None]\n",
    "    #'ccp_alpha': [],\n",
    "    #'max_samples': []\n",
    "}\n",
    "\n",
    "# Создаем модель Random Forest\n",
    "rf_model = RandomForestClassifier()\n",
    "\n",
    "# Используем GridSearchCV для оптимизации гиперпараметров\n",
    "grid_search = GridSearchCV(rf_model, param_grid, cv=5)\n",
    "grid_search.fit(X_train, y_train)\n",
    "\n",
    "# Выводим лучшие параметры и результаты\n",
    "print(\"Лучшие параметры:\", grid_search.best_params_)\n",
    "print(\"Лучший ROC AUC:\", grid_search.best_score_)\n",
    "\n",
    "# Используем лучшую модель для прогноза\n",
    "best_model = grid_search.best_estimator_\n",
    "\n",
    "#rf_pred = best_model.predict(X_test)\n",
    "rf_pred = best_model.predict_proba(X_test)[:,1]\n",
    "\n",
    "# Расчет метрик для лучшей модели\n",
    "rf_roc_auc = roc_auc_score(y_test, rf_pred)\n",
    "print(\"Лучшая модель Random Forest метрики:\")\n",
    "print(f\"ROC AUC: {rf_roc_auc:.2f}\")\n"
   ]
  }
 ],
 "metadata": {
  "kernelspec": {
   "display_name": "Python 3 (ipykernel)",
   "language": "python",
   "name": "python3"
  },
  "language_info": {
   "codemirror_mode": {
    "name": "ipython",
    "version": 3
   },
   "file_extension": ".py",
   "mimetype": "text/x-python",
   "name": "python",
   "nbconvert_exporter": "python",
   "pygments_lexer": "ipython3",
   "version": "3.11.5"
  }
 },
 "nbformat": 4,
 "nbformat_minor": 5
}
